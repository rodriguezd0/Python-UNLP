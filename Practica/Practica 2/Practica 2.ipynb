{
 "cells": [
  {
   "cell_type": "markdown",
   "id": "014b6a2b",
   "metadata": {},
   "source": [
    "# Ejercicio 11 de la practica 2\n",
    "#### Rodriguez Daniel Sebastian\n",
    "##### Legajo 18896/6"
   ]
  },
  {
   "cell_type": "markdown",
   "id": "b0a9bbd6",
   "metadata": {},
   "source": [
    "Lo primero que creo, es una funcion que es capaz de eliminar los acentos del texto, para eso itero en un diccionario que contiene los caracteres a eliminar y los caracteres por los que debe ser modificado. **Esta parte es completamente opcional**, pero para analizar bien los nombres que se repiten decidi hacerlo "
   ]
  },
  {
   "cell_type": "code",
   "execution_count": 2,
   "id": "4202bd11",
   "metadata": {},
   "outputs": [],
   "source": [
    "def sacar_acentos(texto):\n",
    "    \"\"\"Saco los acentos de los nombres para poder evaluarlos mejor cuando hago la comparacion entre los dos textos\"\"\"\n",
    "    sacar = {'á':'a', 'é':'e', 'í':'i', 'ó':'o', 'ú':'u'}\n",
    "    for i in sacar:\n",
    "        texto = texto.replace(i,sacar[i])\n",
    "    return texto"
   ]
  },
  {
   "cell_type": "markdown",
   "id": "0493112e",
   "metadata": {},
   "source": [
    "Una vez que tengo la funcion capaz de eliminar los acentos, voy a definir esta funcion que lo que hace es abrir los archivos y adaptarlos para ingresarlos en listas mediante el siguiente codigo"
   ]
  },
  {
   "cell_type": "code",
   "execution_count": 10,
   "id": "c65498d3",
   "metadata": {},
   "outputs": [],
   "source": [
    "def obtener_datos():\n",
    "    \"\"\"Obtengo los datos de los archivos y los guardo en variables, luego les borro su formato anterior y los ingreso a una lista en minusculas\"\"\"\n",
    "    #Fase de lectura de archivos\n",
    "    nombres_1 = open('nombres_1.txt', 'r').read()\n",
    "    nombres_2 = open('nombres_2.txt', 'r').read()\n",
    "    eval_1 = open('eval1.txt','r').read()\n",
    "    eval_2 = open('eval2.txt','r').read()\n",
    "\n",
    "    #Fase de modificacion de archivos\n",
    "    nombres_1 = nombres_1.replace('\\'','').replace('\\n','').replace(' ','').lower()\n",
    "    nombres_2 = nombres_2.replace('\\'','').replace('\\n','').replace(' ','').lower()\n",
    "\n",
    "    eval_1 = eval_1.strip('\\n ').split(',')\n",
    "    eval_2 = eval_2.strip('\\n ').split(',')\n",
    "    \n",
    "    nombres_1 = sacar_acentos(nombres_1)\n",
    "    nombres_2 = sacar_acentos(nombres_2)\n",
    "    \n",
    "    nombres_1 = nombres_1.split(',')\n",
    "    nombres_2 = nombres_2.split(',')\n",
    "\n",
    "    return nombres_1,nombres_2,eval_1,eval_2"
   ]
  },
  {
   "cell_type": "markdown",
   "id": "d4921934",
   "metadata": {},
   "source": [
    "Esta porcion de codigo es capaz de crear una matriz de datos con los nombres de los alumnos, sus notas y el total de sus notas"
   ]
  },
  {
   "cell_type": "code",
   "execution_count": 4,
   "id": "e21c66f4",
   "metadata": {},
   "outputs": [],
   "source": [
    "def crear_tabla(nombres_1,eval_1,eval_2):\n",
    "    \"\"\"\"Agrego todos los elementos de nombres_1, eval_1 y eval_2 a la tabla y la devuelvo en una variable tabla\"\"\"\n",
    "    tabla = []\n",
    "    for i in range(len(nombres_1)):\n",
    "        actual = []\n",
    "        actual.append(nombres_1[i].capitalize())\n",
    "        actual.append(int(eval_1[i]))\n",
    "        actual.append(int(eval_2[i]))\n",
    "        actual.append(int(eval_1[i])+int(eval_2[i]))\n",
    "        tabla.append(actual)\n",
    "    return tabla"
   ]
  },
  {
   "cell_type": "markdown",
   "id": "15b36ecc",
   "metadata": {},
   "source": [
    "Esta funcion imprime los datos de la tabla con formato para que puedan ser leidos facilmente"
   ]
  },
  {
   "cell_type": "code",
   "execution_count": 5,
   "id": "4b6c49d3",
   "metadata": {},
   "outputs": [],
   "source": [
    "def imprimir_datos(tabla):\n",
    "    \"\"\"Imprimo las listas dentro de la tabla con formato\"\"\"\n",
    "    print(f'{\"ID\":>5} {\"NOMBRE\":<20} {\"NOTA 1\":<8} {\"NOTA 2\":<8} {\"TOTAL\":<8}')\n",
    "    for i in range(len(tabla)):\n",
    "        print(f'{i:>5} {tabla[i][0]:<20} {tabla[i][1]:<8} {tabla[i][2]:<8} {tabla[i][3]:<8}')"
   ]
  },
  {
   "cell_type": "markdown",
   "id": "c4964ee0",
   "metadata": {},
   "source": [
    "Esta funcion crea un conjunto de la interseccion de los nombres dentro de nombres_1 y nombres_2. Luego imprime ese conjunto"
   ]
  },
  {
   "cell_type": "code",
   "execution_count": 6,
   "id": "0fd27abf",
   "metadata": {},
   "outputs": [],
   "source": [
    "def imprimir_nombres_repetidos(nombres_1,nombres_2):\n",
    "    \"\"\"Hago un conjunto de la interseccion de nombres_1 y nombres_2 y los imprimo\"\"\"\n",
    "    todos_los_nombres_repetidos = set(set(nombres_1) & set(nombres_2))\n",
    "    for i in todos_los_nombres_repetidos:\n",
    "        print(f'{i.capitalize()} esta en nombres_1 y nombres_2')\n",
    "    print('='*50)"
   ]
  },
  {
   "cell_type": "markdown",
   "id": "138093cd",
   "metadata": {},
   "source": [
    "En esta porcion de codigo **obtiene todo lo que necesito** para imprimir los nombres repetidos y la tabla de nombres"
   ]
  },
  {
   "cell_type": "code",
   "execution_count": 13,
   "id": "7e851054",
   "metadata": {},
   "outputs": [],
   "source": [
    "nombres_1,nombres_2,eval1,eval2 = obtener_datos()"
   ]
  },
  {
   "cell_type": "markdown",
   "id": "23a7ddb8",
   "metadata": {},
   "source": [
    "### Imprimo los nombres repetidos"
   ]
  },
  {
   "cell_type": "code",
   "execution_count": 14,
   "id": "446dfb2c",
   "metadata": {},
   "outputs": [
    {
     "name": "stdout",
     "output_type": "stream",
     "text": [
      "Bautista esta en nombres_1 y nombres_2\n",
      "Agustin esta en nombres_1 y nombres_2\n",
      "Yanina esta en nombres_1 y nombres_2\n",
      "Marcos esta en nombres_1 y nombres_2\n",
      "Facundo esta en nombres_1 y nombres_2\n",
      "Jose esta en nombres_1 y nombres_2\n",
      "Tomas esta en nombres_1 y nombres_2\n",
      "Eliana esta en nombres_1 y nombres_2\n",
      "Ignacio esta en nombres_1 y nombres_2\n",
      "Ulises esta en nombres_1 y nombres_2\n",
      "Nicolas esta en nombres_1 y nombres_2\n",
      "Mateo esta en nombres_1 y nombres_2\n",
      "Diego esta en nombres_1 y nombres_2\n",
      "Lautaro esta en nombres_1 y nombres_2\n",
      "Federico esta en nombres_1 y nombres_2\n",
      "Matias esta en nombres_1 y nombres_2\n",
      "Cesar esta en nombres_1 y nombres_2\n",
      "Juan esta en nombres_1 y nombres_2\n",
      "==================================================\n"
     ]
    }
   ],
   "source": [
    "imprimir_nombres_repetidos(nombres_1,nombres_2)"
   ]
  },
  {
   "cell_type": "markdown",
   "id": "c09cb9d8",
   "metadata": {},
   "source": [
    "### En esta parte voy a imprimir la tabla de alumnos junto a sus notas"
   ]
  },
  {
   "cell_type": "code",
   "execution_count": 11,
   "id": "41574eac",
   "metadata": {},
   "outputs": [
    {
     "name": "stdout",
     "output_type": "stream",
     "text": [
      "   ID NOMBRE               NOTA 1   NOTA 2   TOTAL   \n",
      "    0 Agustin              81       30       111     \n",
      "    1 Alan                 60       95       155     \n",
      "    2 Andres               72       28       100     \n",
      "    3 Ariadna              24       84       108     \n",
      "    4 Bautista             15       84       99      \n",
      "    5 Carolina             91       43       134     \n",
      "    6 Cesar                12       66       78      \n",
      "    7 David                70       51       121     \n",
      "    8 Diego                29       4        33      \n",
      "    9 Dolores              42       11       53      \n",
      "   10 Dylan                16       58       74      \n",
      "   11 Eliana               3        10       13      \n",
      "   12 Emanuel              35       13       48      \n",
      "   13 Fabian               67       34       101     \n",
      "   14 Facundo              10       96       106     \n",
      "   15 Facundo              57       71       128     \n",
      "   16 Federico             11       86       97      \n",
      "   17 Federico             69       37       106     \n",
      "   18 Gonzalo              12       64       76      \n",
      "   19 Gregorio             77       13       90      \n",
      "   20 Ignacio              13       8        21      \n",
      "   21 Jonathan             86       87       173     \n",
      "   22 Jonathan             48       14       62      \n",
      "   23 Jorge                65       14       79      \n",
      "   24 Jose                 51       49       100     \n",
      "   25 Juan                 41       27       68      \n",
      "   26 Juan                 87       55       142     \n",
      "   27 Juan                 43       69       112     \n",
      "   28 Julian               10       77       87      \n",
      "   29 Julieta              87       59       146     \n",
      "   30 Lautaro              91       57       148     \n",
      "   31 Leonel               15       40       55      \n",
      "   32 Luis                 44       96       140     \n",
      "   33 Luis                 85       24       109     \n",
      "   34 Marcos               73       30       103     \n",
      "   35 Maria                37       73       110     \n",
      "   36 Mateo                42       95       137     \n",
      "   37 Matias               95       19       114     \n",
      "   38 Nicolas              18       47       65      \n",
      "   39 Nicolas              7        15       22      \n",
      "   40 Noelia               74       31       105     \n",
      "   41 Pablo                60       39       99      \n",
      "   42 Priscila             9        15       24      \n",
      "   43 Tomas                65       74       139     \n",
      "   44 Tomas                93       33       126     \n",
      "   45 Ulises               63       57       120     \n",
      "   46 Yanina               74       10       84      \n"
     ]
    }
   ],
   "source": [
    "tabla = crear_tabla(nombres_1,eval1,eval2)\n",
    "imprimir_datos(tabla)"
   ]
  },
  {
   "cell_type": "code",
   "execution_count": null,
   "id": "3812be61",
   "metadata": {},
   "outputs": [],
   "source": []
  }
 ],
 "metadata": {
  "kernelspec": {
   "display_name": "Python 3 (ipykernel)",
   "language": "python",
   "name": "python3"
  },
  "language_info": {
   "codemirror_mode": {
    "name": "ipython",
    "version": 3
   },
   "file_extension": ".py",
   "mimetype": "text/x-python",
   "name": "python",
   "nbconvert_exporter": "python",
   "pygments_lexer": "ipython3",
   "version": "3.9.10"
  }
 },
 "nbformat": 4,
 "nbformat_minor": 5
}
